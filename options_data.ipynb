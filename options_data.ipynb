{
 "cells": [
  {
   "cell_type": "code",
   "execution_count": 3,
   "metadata": {},
   "outputs": [],
   "source": [
    "import tda,config, datetime\n",
    "import pandas as pd\n",
    "from yahoo_fin import options as yfo"
   ]
  },
  {
   "cell_type": "code",
   "execution_count": 22,
   "metadata": {},
   "outputs": [
    {
     "data": {
      "text/plain": [
       "'220617'"
      ]
     },
     "execution_count": 22,
     "metadata": {},
     "output_type": "execute_result"
    }
   ],
   "source": [
    "datetime.datetime.fromtimestamp(1655496000000/1000).strftime"
   ]
  },
  {
   "cell_type": "code",
   "execution_count": 49,
   "metadata": {},
   "outputs": [],
   "source": [
    "client = tda.auth.client_from_token_file('tokens/kiran.json',config.TD_CLIENT_ID)"
   ]
  },
  {
   "cell_type": "code",
   "execution_count": 55,
   "metadata": {},
   "outputs": [],
   "source": [
    "chain = pd.DataFrame(client.get_option_chain('LYFT').json()['putExpDateMap'])"
   ]
  },
  {
   "cell_type": "code",
   "execution_count": null,
   "metadata": {},
   "outputs": [],
   "source": [
    "chain.where(abs(chain.index-10)==min(chain.index))"
   ]
  },
  {
   "cell_type": "code",
   "execution_count": 29,
   "metadata": {},
   "outputs": [
    {
     "data": {
      "text/plain": [
       "'00700000'"
      ]
     },
     "execution_count": 29,
     "metadata": {},
     "output_type": "execute_result"
    }
   ],
   "source": [
    "\"%08.0f\"%(700*1000)"
   ]
  },
  {
   "cell_type": "code",
   "execution_count": 131,
   "metadata": {},
   "outputs": [
    {
     "data": {
      "text/plain": [
       "{'putCall': 'CALL',\n",
       " 'symbol': 'LYFT_061722C15',\n",
       " 'description': 'LYFT Jun 17 2022 15 Call',\n",
       " 'exchangeName': 'OPR',\n",
       " 'bid': 0.42,\n",
       " 'ask': 0.47,\n",
       " 'last': 0.47,\n",
       " 'mark': 0.44,\n",
       " 'bidSize': 2016,\n",
       " 'askSize': 15,\n",
       " 'bidAskSize': '2016X15',\n",
       " 'lastSize': 0,\n",
       " 'highPrice': 0.77,\n",
       " 'lowPrice': 0.41,\n",
       " 'openPrice': 0.0,\n",
       " 'closePrice': 1.18,\n",
       " 'totalVolume': 621,\n",
       " 'tradeDate': None,\n",
       " 'tradeTimeInLong': 1655134168576,\n",
       " 'quoteTimeInLong': 1655134540246,\n",
       " 'netChange': -0.71,\n",
       " 'volatility': 105.925,\n",
       " 'delta': 0.39,\n",
       " 'gamma': 0.222,\n",
       " 'theta': -0.069,\n",
       " 'vega': 0.006,\n",
       " 'rho': 0.001,\n",
       " 'openInterest': 136,\n",
       " 'timeValue': 0.47,\n",
       " 'theoreticalOptionValue': 0.445,\n",
       " 'theoreticalVolatility': 29.0,\n",
       " 'optionDeliverablesList': None,\n",
       " 'strikePrice': 15.0,\n",
       " 'expirationDate': 1655496000000,\n",
       " 'daysToExpiration': 4,\n",
       " 'expirationType': 'R',\n",
       " 'lastTradingDay': 1655510400000,\n",
       " 'multiplier': 100.0,\n",
       " 'settlementType': ' ',\n",
       " 'deliverableNote': '',\n",
       " 'isIndexOption': None,\n",
       " 'percentChange': -60.11,\n",
       " 'markChange': -0.73,\n",
       " 'markPercentChange': -62.23,\n",
       " 'intrinsicValue': -0.55,\n",
       " 'inTheMoney': False,\n",
       " 'mini': False,\n",
       " 'nonStandard': False,\n",
       " 'pennyPilot': True}"
      ]
     },
     "execution_count": 131,
     "metadata": {},
     "output_type": "execute_result"
    }
   ],
   "source": [
    "pd.DataFrame(pd.DataFrame(client.get_option_chain('LYFT',strike_count=4).json()).iloc[0]['callExpDateMap']).iloc[0].iloc[-1]"
   ]
  },
  {
   "cell_type": "code",
   "execution_count": null,
   "metadata": {},
   "outputs": [],
   "source": []
  }
 ],
 "metadata": {
  "interpreter": {
   "hash": "86ba12af8c92082f9a01e1b90654f6f416baf3db58f85b5ae7d4af2bb3430c23"
  },
  "kernelspec": {
   "display_name": "Python 3.10.0 ('p310')",
   "language": "python",
   "name": "python3"
  },
  "language_info": {
   "codemirror_mode": {
    "name": "ipython",
    "version": 3
   },
   "file_extension": ".py",
   "mimetype": "text/x-python",
   "name": "python",
   "nbconvert_exporter": "python",
   "pygments_lexer": "ipython3",
   "version": "3.10.0"
  },
  "orig_nbformat": 4
 },
 "nbformat": 4,
 "nbformat_minor": 2
}
